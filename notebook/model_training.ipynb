{
 "cells": [
  {
   "cell_type": "code",
   "execution_count": 1,
   "metadata": {},
   "outputs": [],
   "source": [
    "from housing.entity.model_factory import ModelFactory , get_sample_model_config_yaml_file"
   ]
  },
  {
   "cell_type": "code",
   "execution_count": 1,
   "metadata": {},
   "outputs": [],
   "source": [
    "class A :\n",
    "    pass "
   ]
  },
  {
   "cell_type": "code",
   "execution_count": 3,
   "metadata": {},
   "outputs": [],
   "source": [
    "A.a=3"
   ]
  },
  {
   "cell_type": "code",
   "execution_count": 6,
   "metadata": {},
   "outputs": [],
   "source": [
    "setattr(A,'a' , 4)"
   ]
  },
  {
   "cell_type": "code",
   "execution_count": 7,
   "metadata": {},
   "outputs": [
    {
     "data": {
      "text/plain": [
       "4"
      ]
     },
     "execution_count": 7,
     "metadata": {},
     "output_type": "execute_result"
    }
   ],
   "source": [
    "A.a"
   ]
  },
  {
   "cell_type": "code",
   "execution_count": 19,
   "metadata": {},
   "outputs": [],
   "source": [
    "from threading import Thread \n",
    "import time \n",
    "class DemoThread(Thread): \n",
    "\n",
    "    def __init__(self,*args): \n",
    "        super().__init__(daemon=False,name=\"demo_threading\")\n",
    "\n",
    "    def print_msg(self): \n",
    "        time.sleep(5)\n",
    "        print(\"I have called print msg\")\n",
    "    \n",
    "    def run(self) :\n",
    "        self.print_msg()\n",
    "\n"
   ]
  },
  {
   "cell_type": "code",
   "execution_count": 23,
   "metadata": {},
   "outputs": [
    {
     "name": "stdout",
     "output_type": "stream",
     "text": [
      "creating object for thread\n",
      "starting demo thread\n",
      "Demo thread tarted\n",
      "I have called print msg\n",
      "Demo thread completed\n"
     ]
    }
   ],
   "source": [
    "print(f\"creating object for thread\")\n",
    "d = DemoThread()\n",
    "print(f\"starting demo thread\")\n",
    "d.start()\n",
    "print(\"Demo thread tarted\")\n",
    "d.join() # waits for previous thread to execute and then starts merging\n",
    "print(f\"Demo thread completed\")\n"
   ]
  }
 ],
 "metadata": {
  "kernelspec": {
   "display_name": "Python 3.7.0 (conda)",
   "language": "python",
   "name": "python3"
  },
  "language_info": {
   "codemirror_mode": {
    "name": "ipython",
    "version": 3
   },
   "file_extension": ".py",
   "mimetype": "text/x-python",
   "name": "python",
   "nbconvert_exporter": "python",
   "pygments_lexer": "ipython3",
   "version": "3.7.0"
  },
  "orig_nbformat": 4,
  "vscode": {
   "interpreter": {
    "hash": "9685dc4fd6cc081d538aef9f98fbe3592cfe6428a752ea25adb8727cd0d74918"
   }
  }
 },
 "nbformat": 4,
 "nbformat_minor": 2
}
