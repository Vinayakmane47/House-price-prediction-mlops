{
 "cells": [
  {
   "cell_type": "code",
   "execution_count": null,
   "metadata": {},
   "outputs": [],
   "source": []
  },
  {
   "cell_type": "code",
   "execution_count": 31,
   "metadata": {},
   "outputs": [
    {
     "name": "stdout",
     "output_type": "stream",
     "text": [
      "[6, 2, 5, 4, 9, 7, 2, 1, 5, 9]\n",
      "[6, 5, 9, 7, 2, 9]\n"
     ]
    }
   ],
   "source": [
    "l1 = [6,2,5,4,9,7,2,1,5,9]\n",
    "l2 = []\n",
    "num = 0 \n",
    "for i in range(len(l1)) : \n",
    "    if num == len(l1)-1: \n",
    "        break \n",
    "    elif l1[num] > l1[num+1]: \n",
    "        l2.append(l1[num])  \n",
    "    num += 1 \n",
    "l2.append(l1[-1])\n",
    "\n",
    "     \n",
    "\n",
    "print(l1)\n",
    "print(l2)\n"
   ]
  },
  {
   "cell_type": "code",
   "execution_count": 73,
   "metadata": {},
   "outputs": [
    {
     "data": {
      "text/plain": [
       "[6, 5, 9, 7, 2, 9]"
      ]
     },
     "execution_count": 73,
     "metadata": {},
     "output_type": "execute_result"
    }
   ],
   "source": [
    "# class defination \n",
    "class Node : \n",
    "    def __init__(self , data:list): \n",
    "        self.data = data \n",
    "        self.next = None \n",
    "\n",
    "    def DeleteNodes(self)->list: \n",
    "        l2 = []\n",
    "        num = 0 \n",
    "        for i in range(len(self.data)) : \n",
    "            if num == len(self.data)-1: \n",
    "                break \n",
    "            elif self.data[num] > self.data[num+1]: \n",
    "                l2.append(self.data[num])  \n",
    "            num += 1 \n",
    "        l2.append(self.data[-1])\n",
    "        return l2 \n",
    "\n",
    "# driver code \n",
    "node = Node(data=[6, 2, 5, 4, 9, 7, 2, 1, 5, 9])\n",
    "node.DeleteNodes()"
   ]
  },
  {
   "cell_type": "code",
   "execution_count": 37,
   "metadata": {},
   "outputs": [
    {
     "name": "stdout",
     "output_type": "stream",
     "text": [
      "['e', 'e', 'a', 'o', 'u']\n",
      "['w', 'h', 'r', 'b', 't', 's']\n",
      "['V', 'V', 'V', 'V', 'V'] ['C', 'C', 'C', 'C', 'C', 'C'] "
     ]
    }
   ],
   "source": [
    "str = \"whereabouts\"\n",
    "v = ['a','e','i','o','u']\n",
    "vowel_list = []\n",
    "conso_list = []\n",
    "out_conso = []\n",
    "out_vow = []\n",
    "for i in str : \n",
    "    vow = False \n",
    "    conso = False\n",
    "    if i not in v : \n",
    "        conso_list.append(i)\n",
    "        conso = True \n",
    "        if conso == True :\n",
    "            out_conso.append(\"C\")\n",
    "    else : \n",
    "        vowel_list.append(i)\n",
    "        vow = True \n",
    "        if vow == True : \n",
    "            out_vow.append(\"V\")\n",
    "    \n",
    "\n",
    "     \n",
    "\n",
    "\n",
    "print(vowel_list)\n",
    "print(conso_list)\n",
    "print(out_vow , out_conso , end = ' ')"
   ]
  },
  {
   "cell_type": "code",
   "execution_count": 47,
   "metadata": {},
   "outputs": [],
   "source": []
  },
  {
   "cell_type": "code",
   "execution_count": 75,
   "metadata": {},
   "outputs": [
    {
     "data": {
      "text/plain": [
       "'CVCVC'"
      ]
     },
     "execution_count": 75,
     "metadata": {},
     "output_type": "execute_result"
    }
   ],
   "source": [
    "\n",
    "def VowelConsonentSequence(str1:str): \n",
    "    v = ['a','e','i','o','u']\n",
    "    def isvow(v,alpha) : \n",
    "        if alpha in v : \n",
    "            return True \n",
    "        else : \n",
    "            return False  \n",
    "    def conso_vow(): \n",
    "        out = []\n",
    "        for i in range(len(str1)) : \n",
    "            if isvow(v,alpha=str1[i]): \n",
    "                out.append(\"V\")\n",
    "            else : \n",
    "                out.append(\"C\")\n",
    "        return out \n",
    "    l2 = conso_vow()\n",
    "    num  = 0 \n",
    "    for i in range(len(l2)) : \n",
    "        if l2[i] == l2[i+1]  : \n",
    "            l2.pop(i)\n",
    "            if num == len(l2)-1:   \n",
    "                break \n",
    "        num += 1 \n",
    "\n",
    "    return ('').join(l2)\n",
    "    \n",
    "str1 = \"yoghurt\"\n",
    "\n",
    "VowelConsonentSequence(str1=str1)\n",
    "         "
   ]
  },
  {
   "cell_type": "code",
   "execution_count": 78,
   "metadata": {},
   "outputs": [],
   "source": [
    "import pandas as pd \n",
    "df = pd.read_csv(r\"C:\\Users\\manev\\Desktop\\iNeuron\\dataset\\housing.csv\")\n"
   ]
  },
  {
   "cell_type": "code",
   "execution_count": 79,
   "metadata": {},
   "outputs": [
    {
     "data": {
      "text/html": [
       "<div>\n",
       "<style scoped>\n",
       "    .dataframe tbody tr th:only-of-type {\n",
       "        vertical-align: middle;\n",
       "    }\n",
       "\n",
       "    .dataframe tbody tr th {\n",
       "        vertical-align: top;\n",
       "    }\n",
       "\n",
       "    .dataframe thead th {\n",
       "        text-align: right;\n",
       "    }\n",
       "</style>\n",
       "<table border=\"1\" class=\"dataframe\">\n",
       "  <thead>\n",
       "    <tr style=\"text-align: right;\">\n",
       "      <th></th>\n",
       "      <th>longitude</th>\n",
       "      <th>latitude</th>\n",
       "      <th>housing_median_age</th>\n",
       "      <th>total_rooms</th>\n",
       "      <th>total_bedrooms</th>\n",
       "      <th>population</th>\n",
       "      <th>households</th>\n",
       "      <th>median_income</th>\n",
       "      <th>median_house_value</th>\n",
       "      <th>ocean_proximity</th>\n",
       "    </tr>\n",
       "  </thead>\n",
       "  <tbody>\n",
       "    <tr>\n",
       "      <th>0</th>\n",
       "      <td>-122.23</td>\n",
       "      <td>37.88</td>\n",
       "      <td>41.0</td>\n",
       "      <td>880.0</td>\n",
       "      <td>129.0</td>\n",
       "      <td>322.0</td>\n",
       "      <td>126.0</td>\n",
       "      <td>8.3252</td>\n",
       "      <td>452600.0</td>\n",
       "      <td>NEAR BAY</td>\n",
       "    </tr>\n",
       "    <tr>\n",
       "      <th>1</th>\n",
       "      <td>-122.22</td>\n",
       "      <td>37.86</td>\n",
       "      <td>21.0</td>\n",
       "      <td>7099.0</td>\n",
       "      <td>1106.0</td>\n",
       "      <td>2401.0</td>\n",
       "      <td>1138.0</td>\n",
       "      <td>8.3014</td>\n",
       "      <td>358500.0</td>\n",
       "      <td>NEAR BAY</td>\n",
       "    </tr>\n",
       "    <tr>\n",
       "      <th>2</th>\n",
       "      <td>-122.24</td>\n",
       "      <td>37.85</td>\n",
       "      <td>52.0</td>\n",
       "      <td>1467.0</td>\n",
       "      <td>190.0</td>\n",
       "      <td>496.0</td>\n",
       "      <td>177.0</td>\n",
       "      <td>7.2574</td>\n",
       "      <td>352100.0</td>\n",
       "      <td>NEAR BAY</td>\n",
       "    </tr>\n",
       "    <tr>\n",
       "      <th>3</th>\n",
       "      <td>-122.25</td>\n",
       "      <td>37.85</td>\n",
       "      <td>52.0</td>\n",
       "      <td>1274.0</td>\n",
       "      <td>235.0</td>\n",
       "      <td>558.0</td>\n",
       "      <td>219.0</td>\n",
       "      <td>5.6431</td>\n",
       "      <td>341300.0</td>\n",
       "      <td>NEAR BAY</td>\n",
       "    </tr>\n",
       "    <tr>\n",
       "      <th>4</th>\n",
       "      <td>-122.25</td>\n",
       "      <td>37.85</td>\n",
       "      <td>52.0</td>\n",
       "      <td>1627.0</td>\n",
       "      <td>280.0</td>\n",
       "      <td>565.0</td>\n",
       "      <td>259.0</td>\n",
       "      <td>3.8462</td>\n",
       "      <td>342200.0</td>\n",
       "      <td>NEAR BAY</td>\n",
       "    </tr>\n",
       "  </tbody>\n",
       "</table>\n",
       "</div>"
      ],
      "text/plain": [
       "   longitude  latitude  housing_median_age  total_rooms  total_bedrooms  \\\n",
       "0    -122.23     37.88                41.0        880.0           129.0   \n",
       "1    -122.22     37.86                21.0       7099.0          1106.0   \n",
       "2    -122.24     37.85                52.0       1467.0           190.0   \n",
       "3    -122.25     37.85                52.0       1274.0           235.0   \n",
       "4    -122.25     37.85                52.0       1627.0           280.0   \n",
       "\n",
       "   population  households  median_income  median_house_value ocean_proximity  \n",
       "0       322.0       126.0         8.3252            452600.0        NEAR BAY  \n",
       "1      2401.0      1138.0         8.3014            358500.0        NEAR BAY  \n",
       "2       496.0       177.0         7.2574            352100.0        NEAR BAY  \n",
       "3       558.0       219.0         5.6431            341300.0        NEAR BAY  \n",
       "4       565.0       259.0         3.8462            342200.0        NEAR BAY  "
      ]
     },
     "execution_count": 79,
     "metadata": {},
     "output_type": "execute_result"
    }
   ],
   "source": [
    "df.head()"
   ]
  },
  {
   "cell_type": "code",
   "execution_count": 80,
   "metadata": {},
   "outputs": [
    {
     "data": {
      "text/plain": [
       "longitude               0\n",
       "latitude                0\n",
       "housing_median_age      0\n",
       "total_rooms             0\n",
       "total_bedrooms        207\n",
       "population              0\n",
       "households              0\n",
       "median_income           0\n",
       "median_house_value      0\n",
       "ocean_proximity         0\n",
       "dtype: int64"
      ]
     },
     "execution_count": 80,
     "metadata": {},
     "output_type": "execute_result"
    }
   ],
   "source": [
    "df.isnull().sum()"
   ]
  },
  {
   "cell_type": "code",
   "execution_count": 82,
   "metadata": {},
   "outputs": [],
   "source": [
    "from housing.component.data_transformation import FeatureGenerator "
   ]
  },
  {
   "cell_type": "code",
   "execution_count": 85,
   "metadata": {},
   "outputs": [],
   "source": [
    "featuregen = FeatureGenerator()\n"
   ]
  },
  {
   "cell_type": "code",
   "execution_count": 100,
   "metadata": {},
   "outputs": [],
   "source": [
    "num_column = ['longitude', 'latitude', 'housing_median_age', 'total_rooms',\n",
    "       'total_bedrooms', 'population', 'households', 'median_income'\n",
    "       ]\n",
    "cat_column = ['ocean_proximity']"
   ]
  },
  {
   "cell_type": "code",
   "execution_count": 94,
   "metadata": {},
   "outputs": [],
   "source": [
    "from sklearn.pipeline import Pipeline\n",
    "from sklearn.compose import ColumnTransformer # we can create seperate pipeline for cat anad num columns and at the end we can combine them \n",
    "from sklearn.impute import SimpleImputer\n",
    "from sklearn.preprocessing import StandardScaler\n",
    "from sklearn.preprocessing import OneHotEncoder"
   ]
  },
  {
   "cell_type": "code",
   "execution_count": 110,
   "metadata": {},
   "outputs": [],
   "source": [
    "num_pipeline = Pipeline(steps= [\n",
    "    ('imputer' , SimpleImputer(strategy=\"median\")),\n",
    "    ('feature_generator', FeatureGenerator()),\n",
    "    ('scaling' , StandardScaler(with_mean=False))\n",
    "]\n",
    ")"
   ]
  },
  {
   "cell_type": "code",
   "execution_count": 112,
   "metadata": {},
   "outputs": [],
   "source": [
    "cat_pipeline = Pipeline(steps=[\n",
    "    ('imputer' , SimpleImputer(strategy='most_frequent')),\n",
    "    (\"oneHotEncoder\", OneHotEncoder()),\n",
    "    ('scaling' , StandardScaler(with_mean=False))\n",
    "\n",
    "])"
   ]
  },
  {
   "cell_type": "code",
   "execution_count": 113,
   "metadata": {},
   "outputs": [],
   "source": [
    "preprocessing = ColumnTransformer([\n",
    "    ('num_pipeline' , num_pipeline,num_column),\n",
    "    ('cat_pipeline',cat_pipeline,cat_column)]\n",
    ")"
   ]
  },
  {
   "cell_type": "code",
   "execution_count": 108,
   "metadata": {},
   "outputs": [
    {
     "data": {
      "text/plain": [
       "Index(['longitude', 'latitude', 'housing_median_age', 'total_rooms',\n",
       "       'total_bedrooms', 'population', 'households', 'median_income',\n",
       "       'median_house_value', 'ocean_proximity'],\n",
       "      dtype='object')"
      ]
     },
     "execution_count": 108,
     "metadata": {},
     "output_type": "execute_result"
    }
   ],
   "source": [
    "df.columns"
   ]
  },
  {
   "cell_type": "code",
   "execution_count": null,
   "metadata": {},
   "outputs": [],
   "source": []
  },
  {
   "cell_type": "code",
   "execution_count": 116,
   "metadata": {},
   "outputs": [],
   "source": [
    "df_new = preprocessing.fit_transform(df)"
   ]
  },
  {
   "cell_type": "code",
   "execution_count": 123,
   "metadata": {},
   "outputs": [
    {
     "data": {
      "text/html": [
       "<div>\n",
       "<style scoped>\n",
       "    .dataframe tbody tr th:only-of-type {\n",
       "        vertical-align: middle;\n",
       "    }\n",
       "\n",
       "    .dataframe tbody tr th {\n",
       "        vertical-align: top;\n",
       "    }\n",
       "\n",
       "    .dataframe thead th {\n",
       "        text-align: right;\n",
       "    }\n",
       "</style>\n",
       "<table border=\"1\" class=\"dataframe\">\n",
       "  <thead>\n",
       "    <tr style=\"text-align: right;\">\n",
       "      <th></th>\n",
       "      <th>0</th>\n",
       "      <th>1</th>\n",
       "      <th>2</th>\n",
       "      <th>3</th>\n",
       "      <th>4</th>\n",
       "      <th>5</th>\n",
       "      <th>6</th>\n",
       "      <th>7</th>\n",
       "      <th>8</th>\n",
       "      <th>9</th>\n",
       "      <th>10</th>\n",
       "      <th>11</th>\n",
       "      <th>12</th>\n",
       "      <th>13</th>\n",
       "      <th>14</th>\n",
       "      <th>15</th>\n",
       "    </tr>\n",
       "  </thead>\n",
       "  <tbody>\n",
       "    <tr>\n",
       "      <th>0</th>\n",
       "      <td>-61.008748</td>\n",
       "      <td>17.734907</td>\n",
       "      <td>3.257781</td>\n",
       "      <td>0.403381</td>\n",
       "      <td>0.307596</td>\n",
       "      <td>0.284343</td>\n",
       "      <td>0.329566</td>\n",
       "      <td>4.382202</td>\n",
       "      <td>2.822881</td>\n",
       "      <td>0.246063</td>\n",
       "      <td>2.246721</td>\n",
       "      <td>0.0</td>\n",
       "      <td>0.0</td>\n",
       "      <td>0.0</td>\n",
       "      <td>3.184006</td>\n",
       "      <td>0.0</td>\n",
       "    </tr>\n",
       "    <tr>\n",
       "      <th>1</th>\n",
       "      <td>-61.003756</td>\n",
       "      <td>17.725544</td>\n",
       "      <td>1.668620</td>\n",
       "      <td>3.254090</td>\n",
       "      <td>2.637216</td>\n",
       "      <td>2.120211</td>\n",
       "      <td>2.976560</td>\n",
       "      <td>4.369674</td>\n",
       "      <td>2.521363</td>\n",
       "      <td>0.203147</td>\n",
       "      <td>2.387812</td>\n",
       "      <td>0.0</td>\n",
       "      <td>0.0</td>\n",
       "      <td>0.0</td>\n",
       "      <td>3.184006</td>\n",
       "      <td>0.0</td>\n",
       "    </tr>\n",
       "    <tr>\n",
       "      <th>2</th>\n",
       "      <td>-61.013739</td>\n",
       "      <td>17.720862</td>\n",
       "      <td>4.131820</td>\n",
       "      <td>0.672454</td>\n",
       "      <td>0.453048</td>\n",
       "      <td>0.437994</td>\n",
       "      <td>0.462962</td>\n",
       "      <td>3.820135</td>\n",
       "      <td>3.349942</td>\n",
       "      <td>0.269817</td>\n",
       "      <td>1.985024</td>\n",
       "      <td>0.0</td>\n",
       "      <td>0.0</td>\n",
       "      <td>0.0</td>\n",
       "      <td>3.184006</td>\n",
       "      <td>0.0</td>\n",
       "    </tr>\n",
       "    <tr>\n",
       "      <th>3</th>\n",
       "      <td>-61.018730</td>\n",
       "      <td>17.720862</td>\n",
       "      <td>4.131820</td>\n",
       "      <td>0.583985</td>\n",
       "      <td>0.560349</td>\n",
       "      <td>0.492744</td>\n",
       "      <td>0.572818</td>\n",
       "      <td>2.970403</td>\n",
       "      <td>2.351288</td>\n",
       "      <td>0.245330</td>\n",
       "      <td>2.827097</td>\n",
       "      <td>0.0</td>\n",
       "      <td>0.0</td>\n",
       "      <td>0.0</td>\n",
       "      <td>3.184006</td>\n",
       "      <td>0.0</td>\n",
       "    </tr>\n",
       "    <tr>\n",
       "      <th>4</th>\n",
       "      <td>-61.018730</td>\n",
       "      <td>17.720862</td>\n",
       "      <td>4.131820</td>\n",
       "      <td>0.745796</td>\n",
       "      <td>0.667650</td>\n",
       "      <td>0.498925</td>\n",
       "      <td>0.677442</td>\n",
       "      <td>2.024555</td>\n",
       "      <td>2.539032</td>\n",
       "      <td>0.210043</td>\n",
       "      <td>2.637623</td>\n",
       "      <td>0.0</td>\n",
       "      <td>0.0</td>\n",
       "      <td>0.0</td>\n",
       "      <td>3.184006</td>\n",
       "      <td>0.0</td>\n",
       "    </tr>\n",
       "  </tbody>\n",
       "</table>\n",
       "</div>"
      ],
      "text/plain": [
       "          0          1         2         3         4         5         6   \\\n",
       "0 -61.008748  17.734907  3.257781  0.403381  0.307596  0.284343  0.329566   \n",
       "1 -61.003756  17.725544  1.668620  3.254090  2.637216  2.120211  2.976560   \n",
       "2 -61.013739  17.720862  4.131820  0.672454  0.453048  0.437994  0.462962   \n",
       "3 -61.018730  17.720862  4.131820  0.583985  0.560349  0.492744  0.572818   \n",
       "4 -61.018730  17.720862  4.131820  0.745796  0.667650  0.498925  0.677442   \n",
       "\n",
       "         7         8         9         10   11   12   13        14   15  \n",
       "0  4.382202  2.822881  0.246063  2.246721  0.0  0.0  0.0  3.184006  0.0  \n",
       "1  4.369674  2.521363  0.203147  2.387812  0.0  0.0  0.0  3.184006  0.0  \n",
       "2  3.820135  3.349942  0.269817  1.985024  0.0  0.0  0.0  3.184006  0.0  \n",
       "3  2.970403  2.351288  0.245330  2.827097  0.0  0.0  0.0  3.184006  0.0  \n",
       "4  2.024555  2.539032  0.210043  2.637623  0.0  0.0  0.0  3.184006  0.0  "
      ]
     },
     "execution_count": 123,
     "metadata": {},
     "output_type": "execute_result"
    }
   ],
   "source": [
    "pd.DataFrame(df_new).head()"
   ]
  },
  {
   "cell_type": "code",
   "execution_count": 132,
   "metadata": {},
   "outputs": [],
   "source": [
    "import numpy as np \n",
    "x = df_new\n",
    "y = np.array(df.median_house_value)"
   ]
  },
  {
   "cell_type": "code",
   "execution_count": 133,
   "metadata": {},
   "outputs": [
    {
     "data": {
      "text/plain": [
       "array([-5.53207224e+04, -5.62551518e+04,  1.33647399e+04, -1.88243503e+03,\n",
       "        7.46525272e+03, -4.63319694e+04,  4.57523727e+04,  7.47913188e+04,\n",
       "        6.37210030e+03,  8.63339993e+02,  9.61321942e+03,  7.60997774e+11,\n",
       "        7.13139970e+11,  2.38434001e+10,  4.81190095e+11,  5.13189062e+11])"
      ]
     },
     "execution_count": 133,
     "metadata": {},
     "output_type": "execute_result"
    }
   ],
   "source": [
    "from sklearn.linear_model import LinearRegression \n",
    "linear = LinearRegression()\n",
    "linear.fit(x,y)\n",
    "linear.coef_"
   ]
  },
  {
   "cell_type": "code",
   "execution_count": 134,
   "metadata": {},
   "outputs": [
    {
     "data": {
      "text/plain": [
       "-1532114676613.789"
      ]
     },
     "execution_count": 134,
     "metadata": {},
     "output_type": "execute_result"
    }
   ],
   "source": [
    "linear.intercept_"
   ]
  },
  {
   "cell_type": "code",
   "execution_count": 135,
   "metadata": {},
   "outputs": [],
   "source": [
    "y_hat = linear.predict(x)"
   ]
  },
  {
   "cell_type": "code",
   "execution_count": 139,
   "metadata": {},
   "outputs": [
    {
     "data": {
      "text/plain": [
       "[<matplotlib.lines.Line2D at 0x1c17808af28>]"
      ]
     },
     "execution_count": 139,
     "metadata": {},
     "output_type": "execute_result"
    },
    {
     "data": {
      "image/png": "[encoded data removed]",
      "text/plain": [
       "<Figure size 640x480 with 1 Axes>"
      ]
     },
     "metadata": {},
     "output_type": "display_data"
    }
   ],
   "source": [
    "import matplotlib.pyplot as plt\n",
    "plt.plot(y,y_hat )"
   ]
  },
  {
   "cell_type": "code",
   "execution_count": 137,
   "metadata": {},
   "outputs": [
    {
     "data": {
      "text/plain": [
       "0.6498070697258065"
      ]
     },
     "execution_count": 137,
     "metadata": {},
     "output_type": "execute_result"
    }
   ],
   "source": [
    "from sklearn.metrics import r2_score\n",
    "r2_score(y,y_hat)"
   ]
  },
  {
   "cell_type": "code",
   "execution_count": null,
   "metadata": {},
   "outputs": [],
   "source": []
  },
  {
   "cell_type": "code",
   "execution_count": null,
   "metadata": {},
   "outputs": [],
   "source": []
  }
 ],
 "metadata": {
  "kernelspec": {
   "display_name": "Python 3.7.0 (conda)",
   "language": "python",
   "name": "python3"
  },
  "language_info": {
   "codemirror_mode": {
    "name": "ipython",
    "version": 3
   },
   "file_extension": ".py",
   "mimetype": "text/x-python",
   "name": "python",
   "nbconvert_exporter": "python",
   "pygments_lexer": "ipython3",
   "version": "3.7.0"
  },
  "orig_nbformat": 4,
  "vscode": {
   "interpreter": {
    "hash": "9685dc4fd6cc081d538aef9f98fbe3592cfe6428a752ea25adb8727cd0d74918"
   }
  }
 },
 "nbformat": 4,
 "nbformat_minor": 2
}
